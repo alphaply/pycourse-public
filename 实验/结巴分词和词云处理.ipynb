{
 "cells": [
  {
   "cell_type": "markdown",
   "metadata": {},
   "source": [
    "# 我这不是一个笔记\n",
    "- 二级\n",
    "- 三级\n",
    "- 四级"
   ]
  },
  {
   "cell_type": "code",
   "execution_count": 1,
   "metadata": {},
   "outputs": [],
   "source": [
    "def foo():\n",
    "    print('hello xxx world')"
   ]
  },
  {
   "cell_type": "code",
   "execution_count": 2,
   "metadata": {
    "collapsed": true
   },
   "outputs": [
    {
     "name": "stdout",
     "output_type": "stream",
     "text": [
      "Requirement already satisfied: jieba in c:\\pyenv\\anaconda3\\lib\\site-packages (0.42.1)\n"
     ]
    },
    {
     "name": "stderr",
     "output_type": "stream",
     "text": [
      "WARNING: Ignoring invalid distribution -umpy (c:\\pyenv\\anaconda3\\lib\\site-packages)\n",
      "WARNING: Ignoring invalid distribution -apf (c:\\pyenv\\anaconda3\\lib\\site-packages)\n",
      "WARNING: Ignoring invalid distribution -addlepaddle (c:\\pyenv\\anaconda3\\lib\\site-packages)\n",
      "WARNING: Ignoring invalid distribution -umpy (c:\\pyenv\\anaconda3\\lib\\site-packages)\n",
      "WARNING: Ignoring invalid distribution -apf (c:\\pyenv\\anaconda3\\lib\\site-packages)\n",
      "WARNING: Ignoring invalid distribution -addlepaddle (c:\\pyenv\\anaconda3\\lib\\site-packages)\n",
      "WARNING: Ignoring invalid distribution -umpy (c:\\pyenv\\anaconda3\\lib\\site-packages)\n",
      "WARNING: Ignoring invalid distribution -apf (c:\\pyenv\\anaconda3\\lib\\site-packages)\n",
      "WARNING: Ignoring invalid distribution -addlepaddle (c:\\pyenv\\anaconda3\\lib\\site-packages)\n",
      "WARNING: Ignoring invalid distribution -umpy (c:\\pyenv\\anaconda3\\lib\\site-packages)\n",
      "WARNING: Ignoring invalid distribution -apf (c:\\pyenv\\anaconda3\\lib\\site-packages)\n",
      "WARNING: Ignoring invalid distribution -addlepaddle (c:\\pyenv\\anaconda3\\lib\\site-packages)\n",
      "WARNING: Ignoring invalid distribution -umpy (c:\\pyenv\\anaconda3\\lib\\site-packages)\n",
      "WARNING: Ignoring invalid distribution -apf (c:\\pyenv\\anaconda3\\lib\\site-packages)\n",
      "WARNING: Ignoring invalid distribution -addlepaddle (c:\\pyenv\\anaconda3\\lib\\site-packages)\n"
     ]
    }
   ],
   "source": [
    "!pip install jieba"
   ]
  },
  {
   "cell_type": "code",
   "execution_count": 3,
   "metadata": {},
   "outputs": [],
   "source": [
    "import jieba"
   ]
  },
  {
   "cell_type": "code",
   "execution_count": 8,
   "metadata": {},
   "outputs": [
    {
     "name": "stdout",
     "output_type": "stream",
     "text": [
      "Requirement already satisfied: wordcloud in c:\\pyenv\\anaconda3\\lib\\site-packages (1.8.1)\n",
      "Requirement already satisfied: numpy>=1.6.1 in c:\\pyenv\\anaconda3\\lib\\site-packages (from wordcloud) (1.18.5)\n",
      "Requirement already satisfied: matplotlib in c:\\pyenv\\anaconda3\\lib\\site-packages (from wordcloud) (3.2.2)\n",
      "Requirement already satisfied: pillow in c:\\pyenv\\anaconda3\\lib\\site-packages (from wordcloud) (7.2.0)\n",
      "Requirement already satisfied: kiwisolver>=1.0.1 in c:\\pyenv\\anaconda3\\lib\\site-packages (from matplotlib->wordcloud) (1.2.0)\n",
      "Requirement already satisfied: python-dateutil>=2.1 in c:\\pyenv\\anaconda3\\lib\\site-packages (from matplotlib->wordcloud) (2.8.1)\n",
      "Requirement already satisfied: pyparsing!=2.0.4,!=2.1.2,!=2.1.6,>=2.0.1 in c:\\pyenv\\anaconda3\\lib\\site-packages (from matplotlib->wordcloud) (2.4.7)\n",
      "Requirement already satisfied: cycler>=0.10 in c:\\pyenv\\anaconda3\\lib\\site-packages (from matplotlib->wordcloud) (0.10.0)\n",
      "Requirement already satisfied: six in c:\\pyenv\\anaconda3\\lib\\site-packages (from cycler>=0.10->matplotlib->wordcloud) (1.15.0)\n"
     ]
    }
   ],
   "source": [
    "!pip install wordcloud"
   ]
  },
  {
   "cell_type": "markdown",
   "metadata": {},
   "source": [
    "# 中文分词库jieba"
   ]
  },
  {
   "cell_type": "markdown",
   "metadata": {},
   "source": [
    "官方github仓库\n",
    "https://github.com/fxsjy/jieba"
   ]
  },
  {
   "cell_type": "markdown",
   "metadata": {},
   "source": [
    "扩展阅读：对Python中文分词模块结巴分词算法过程的理解和分析 https://blog.csdn.net/rav009/article/details/12196623   "
   ]
  },
  {
   "cell_type": "code",
   "execution_count": 4,
   "metadata": {},
   "outputs": [],
   "source": [
    "import jieba \n",
    "import jieba.posseg as pseg  # 词性分析"
   ]
  },
  {
   "cell_type": "markdown",
   "metadata": {},
   "source": [
    "paddle模式 百度的ai框架提供的支持"
   ]
  },
  {
   "cell_type": "markdown",
   "metadata": {},
   "source": [
    "安装paddle的支持 官方github上提到的pip install paddlepaddle-tiny有问题"
   ]
  },
  {
   "cell_type": "code",
   "execution_count": 13,
   "metadata": {
    "collapsed": true
   },
   "outputs": [
    {
     "name": "stdout",
     "output_type": "stream",
     "text": [
      "Requirement already satisfied: paddlepaddle in c:\\pyenv\\anaconda3\\lib\\site-packages (1.8.5)\n",
      "Requirement already satisfied: matplotlib; python_version >= \"3.6\" in c:\\pyenv\\anaconda3\\lib\\site-packages (from paddlepaddle) (3.2.2)\n",
      "Requirement already satisfied: objgraph in c:\\pyenv\\anaconda3\\lib\\site-packages (from paddlepaddle) (3.5.0)\n",
      "Requirement already satisfied: scipy; python_version > \"3.5\" in c:\\pyenv\\anaconda3\\lib\\site-packages (from paddlepaddle) (1.5.0)\n",
      "Requirement already satisfied: opencv-python<=4.2.0.32 in c:\\pyenv\\anaconda3\\lib\\site-packages (from paddlepaddle) (4.2.0.32)\n",
      "Requirement already satisfied: gast==0.3.3 in c:\\pyenv\\anaconda3\\lib\\site-packages (from paddlepaddle) (0.3.3)\n",
      "Requirement already satisfied: prettytable in c:\\pyenv\\anaconda3\\lib\\site-packages (from paddlepaddle) (1.0.1)\n",
      "Requirement already satisfied: decorator in c:\\pyenv\\anaconda3\\lib\\site-packages (from paddlepaddle) (4.4.2)\n",
      "Requirement already satisfied: requests>=2.20.0 in c:\\pyenv\\anaconda3\\lib\\site-packages (from paddlepaddle) (2.24.0)\n",
      "Requirement already satisfied: pathlib in c:\\pyenv\\anaconda3\\lib\\site-packages (from paddlepaddle) (1.0.1)\n",
      "Requirement already satisfied: Pillow in c:\\pyenv\\anaconda3\\lib\\site-packages (from paddlepaddle) (7.2.0)\n",
      "Requirement already satisfied: nltk; python_version >= \"3.5\" in c:\\pyenv\\anaconda3\\lib\\site-packages (from paddlepaddle) (3.5)\n",
      "Requirement already satisfied: graphviz in c:\\pyenv\\anaconda3\\lib\\site-packages (from paddlepaddle) (0.14.2)\n",
      "Requirement already satisfied: rarfile in c:\\pyenv\\anaconda3\\lib\\site-packages (from paddlepaddle) (4.0)\n",
      "Requirement already satisfied: pyyaml in c:\\pyenv\\anaconda3\\lib\\site-packages (from paddlepaddle) (5.3.1)\n",
      "Requirement already satisfied: astor in c:\\pyenv\\anaconda3\\lib\\site-packages (from paddlepaddle) (0.8.1)\n",
      "Requirement already satisfied: numpy>=1.12; python_version >= \"3.5\" in c:\\pyenv\\anaconda3\\lib\\site-packages (from paddlepaddle) (1.18.5)\n",
      "Requirement already satisfied: protobuf>=3.1.0 in c:\\pyenv\\anaconda3\\lib\\site-packages (from paddlepaddle) (3.14.0)\n",
      "Requirement already satisfied: funcsigs in c:\\pyenv\\anaconda3\\lib\\site-packages (from paddlepaddle) (1.0.2)\n",
      "Requirement already satisfied: six in c:\\pyenv\\anaconda3\\lib\\site-packages (from paddlepaddle) (1.15.0)\n",
      "Requirement already satisfied: cycler>=0.10 in c:\\pyenv\\anaconda3\\lib\\site-packages (from matplotlib; python_version >= \"3.6\"->paddlepaddle) (0.10.0)\n",
      "Requirement already satisfied: kiwisolver>=1.0.1 in c:\\pyenv\\anaconda3\\lib\\site-packages (from matplotlib; python_version >= \"3.6\"->paddlepaddle) (1.2.0)\n",
      "Requirement already satisfied: pyparsing!=2.0.4,!=2.1.2,!=2.1.6,>=2.0.1 in c:\\pyenv\\anaconda3\\lib\\site-packages (from matplotlib; python_version >= \"3.6\"->paddlepaddle) (2.4.7)\n",
      "Requirement already satisfied: python-dateutil>=2.1 in c:\\pyenv\\anaconda3\\lib\\site-packages (from matplotlib; python_version >= \"3.6\"->paddlepaddle) (2.8.1)\n",
      "Requirement already satisfied: wcwidth in c:\\pyenv\\anaconda3\\lib\\site-packages (from prettytable->paddlepaddle) (0.2.5)\n",
      "Requirement already satisfied: setuptools in c:\\pyenv\\anaconda3\\lib\\site-packages (from prettytable->paddlepaddle) (49.2.0.post20200714)\n",
      "Requirement already satisfied: idna<3,>=2.5 in c:\\pyenv\\anaconda3\\lib\\site-packages (from requests>=2.20.0->paddlepaddle) (2.10)\n",
      "Requirement already satisfied: certifi>=2017.4.17 in c:\\pyenv\\anaconda3\\lib\\site-packages (from requests>=2.20.0->paddlepaddle) (2020.6.20)\n",
      "Requirement already satisfied: chardet<4,>=3.0.2 in c:\\pyenv\\anaconda3\\lib\\site-packages (from requests>=2.20.0->paddlepaddle) (3.0.4)\n",
      "Requirement already satisfied: urllib3!=1.25.0,!=1.25.1,<1.26,>=1.21.1 in c:\\pyenv\\anaconda3\\lib\\site-packages (from requests>=2.20.0->paddlepaddle) (1.25.9)\n",
      "Requirement already satisfied: regex in c:\\pyenv\\anaconda3\\lib\\site-packages (from nltk; python_version >= \"3.5\"->paddlepaddle) (2020.6.8)\n",
      "Requirement already satisfied: joblib in c:\\pyenv\\anaconda3\\lib\\site-packages (from nltk; python_version >= \"3.5\"->paddlepaddle) (0.16.0)\n",
      "Requirement already satisfied: tqdm in c:\\pyenv\\anaconda3\\lib\\site-packages (from nltk; python_version >= \"3.5\"->paddlepaddle) (4.47.0)\n",
      "Requirement already satisfied: click in c:\\pyenv\\anaconda3\\lib\\site-packages (from nltk; python_version >= \"3.5\"->paddlepaddle) (7.1.2)\n"
     ]
    }
   ],
   "source": [
    "!pip install paddlepaddle  "
   ]
  },
  {
   "cell_type": "code",
   "execution_count": 5,
   "metadata": {
    "scrolled": true
   },
   "outputs": [
    {
     "ename": "AssertionError",
     "evalue": "In PaddlePaddle 2.x, we turn on dynamic graph mode by default, and 'data()' is only supported in static graph mode. So if you want to use this api, please call 'paddle.enable_static()' before this api to enter static graph mode.",
     "output_type": "error",
     "traceback": [
      "\u001b[1;31m---------------------------------------------------------------------------\u001b[0m",
      "\u001b[1;31mAssertionError\u001b[0m                            Traceback (most recent call last)",
      "\u001b[1;32m<ipython-input-5-39623be9e353>\u001b[0m in \u001b[0;36m<module>\u001b[1;34m\u001b[0m\n\u001b[1;32m----> 1\u001b[1;33m \u001b[0mjieba\u001b[0m\u001b[1;33m.\u001b[0m\u001b[0menable_paddle\u001b[0m\u001b[1;33m(\u001b[0m\u001b[1;33m)\u001b[0m\u001b[1;33m\u001b[0m\u001b[1;33m\u001b[0m\u001b[0m\n\u001b[0m",
      "\u001b[1;32mC:\\pyenv\\Anaconda3\\lib\\site-packages\\jieba\\_compat.py\u001b[0m in \u001b[0;36menable_paddle\u001b[1;34m()\u001b[0m\n\u001b[0;32m     44\u001b[0m     \u001b[1;32melse\u001b[0m\u001b[1;33m:\u001b[0m\u001b[1;33m\u001b[0m\u001b[1;33m\u001b[0m\u001b[0m\n\u001b[0;32m     45\u001b[0m         \u001b[1;32mtry\u001b[0m\u001b[1;33m:\u001b[0m\u001b[1;33m\u001b[0m\u001b[1;33m\u001b[0m\u001b[0m\n\u001b[1;32m---> 46\u001b[1;33m             \u001b[1;32mimport\u001b[0m \u001b[0mjieba\u001b[0m\u001b[1;33m.\u001b[0m\u001b[0mlac_small\u001b[0m\u001b[1;33m.\u001b[0m\u001b[0mpredict\u001b[0m \u001b[1;32mas\u001b[0m \u001b[0mpredict\u001b[0m\u001b[1;33m\u001b[0m\u001b[1;33m\u001b[0m\u001b[0m\n\u001b[0m\u001b[0;32m     47\u001b[0m             \u001b[0mdefault_logger\u001b[0m\u001b[1;33m.\u001b[0m\u001b[0mdebug\u001b[0m\u001b[1;33m(\u001b[0m\u001b[1;34m\"Paddle enabled successfully......\"\u001b[0m\u001b[1;33m)\u001b[0m\u001b[1;33m\u001b[0m\u001b[1;33m\u001b[0m\u001b[0m\n\u001b[0;32m     48\u001b[0m             \u001b[0mcheck_paddle_install\u001b[0m\u001b[1;33m[\u001b[0m\u001b[1;34m'is_paddle_installed'\u001b[0m\u001b[1;33m]\u001b[0m \u001b[1;33m=\u001b[0m \u001b[1;32mTrue\u001b[0m\u001b[1;33m\u001b[0m\u001b[1;33m\u001b[0m\u001b[0m\n",
      "\u001b[1;32mC:\\pyenv\\Anaconda3\\lib\\site-packages\\jieba\\lac_small\\predict.py\u001b[0m in \u001b[0;36m<module>\u001b[1;34m\u001b[0m\n\u001b[0;32m     41\u001b[0m \u001b[1;32mwith\u001b[0m \u001b[0mfluid\u001b[0m\u001b[1;33m.\u001b[0m\u001b[0mprogram_guard\u001b[0m\u001b[1;33m(\u001b[0m\u001b[0minfer_program\u001b[0m\u001b[1;33m,\u001b[0m \u001b[0mfluid\u001b[0m\u001b[1;33m.\u001b[0m\u001b[0mdefault_startup_program\u001b[0m\u001b[1;33m(\u001b[0m\u001b[1;33m)\u001b[0m\u001b[1;33m)\u001b[0m\u001b[1;33m:\u001b[0m\u001b[1;33m\u001b[0m\u001b[1;33m\u001b[0m\u001b[0m\n\u001b[0;32m     42\u001b[0m     \u001b[1;32mwith\u001b[0m \u001b[0mfluid\u001b[0m\u001b[1;33m.\u001b[0m\u001b[0munique_name\u001b[0m\u001b[1;33m.\u001b[0m\u001b[0mguard\u001b[0m\u001b[1;33m(\u001b[0m\u001b[1;33m)\u001b[0m\u001b[1;33m:\u001b[0m\u001b[1;33m\u001b[0m\u001b[1;33m\u001b[0m\u001b[0m\n\u001b[1;32m---> 43\u001b[1;33m         \u001b[0minfer_ret\u001b[0m \u001b[1;33m=\u001b[0m \u001b[0mcreator\u001b[0m\u001b[1;33m.\u001b[0m\u001b[0mcreate_model\u001b[0m\u001b[1;33m(\u001b[0m\u001b[0mdataset\u001b[0m\u001b[1;33m.\u001b[0m\u001b[0mvocab_size\u001b[0m\u001b[1;33m,\u001b[0m \u001b[0mdataset\u001b[0m\u001b[1;33m.\u001b[0m\u001b[0mnum_labels\u001b[0m\u001b[1;33m,\u001b[0m \u001b[0mmode\u001b[0m\u001b[1;33m=\u001b[0m\u001b[1;34m'infer'\u001b[0m\u001b[1;33m)\u001b[0m\u001b[1;33m\u001b[0m\u001b[1;33m\u001b[0m\u001b[0m\n\u001b[0m\u001b[0;32m     44\u001b[0m \u001b[0minfer_program\u001b[0m \u001b[1;33m=\u001b[0m \u001b[0minfer_program\u001b[0m\u001b[1;33m.\u001b[0m\u001b[0mclone\u001b[0m\u001b[1;33m(\u001b[0m\u001b[0mfor_test\u001b[0m\u001b[1;33m=\u001b[0m\u001b[1;32mTrue\u001b[0m\u001b[1;33m)\u001b[0m\u001b[1;33m\u001b[0m\u001b[1;33m\u001b[0m\u001b[0m\n\u001b[0;32m     45\u001b[0m \u001b[0mplace\u001b[0m \u001b[1;33m=\u001b[0m \u001b[0mfluid\u001b[0m\u001b[1;33m.\u001b[0m\u001b[0mCPUPlace\u001b[0m\u001b[1;33m(\u001b[0m\u001b[1;33m)\u001b[0m\u001b[1;33m\u001b[0m\u001b[1;33m\u001b[0m\u001b[0m\n",
      "\u001b[1;32mC:\\pyenv\\Anaconda3\\lib\\site-packages\\jieba\\lac_small\\creator.py\u001b[0m in \u001b[0;36mcreate_model\u001b[1;34m(vocab_size, num_labels, mode)\u001b[0m\n\u001b[0;32m     30\u001b[0m \u001b[1;33m\u001b[0m\u001b[0m\n\u001b[0;32m     31\u001b[0m     \u001b[1;31m# model's input data\u001b[0m\u001b[1;33m\u001b[0m\u001b[1;33m\u001b[0m\u001b[1;33m\u001b[0m\u001b[0m\n\u001b[1;32m---> 32\u001b[1;33m     \u001b[0mwords\u001b[0m \u001b[1;33m=\u001b[0m \u001b[0mfluid\u001b[0m\u001b[1;33m.\u001b[0m\u001b[0mdata\u001b[0m\u001b[1;33m(\u001b[0m\u001b[0mname\u001b[0m\u001b[1;33m=\u001b[0m\u001b[1;34m'words'\u001b[0m\u001b[1;33m,\u001b[0m \u001b[0mshape\u001b[0m\u001b[1;33m=\u001b[0m\u001b[1;33m[\u001b[0m\u001b[1;33m-\u001b[0m\u001b[1;36m1\u001b[0m\u001b[1;33m,\u001b[0m \u001b[1;36m1\u001b[0m\u001b[1;33m]\u001b[0m\u001b[1;33m,\u001b[0m \u001b[0mdtype\u001b[0m\u001b[1;33m=\u001b[0m\u001b[1;34m'int64'\u001b[0m\u001b[1;33m,\u001b[0m \u001b[0mlod_level\u001b[0m\u001b[1;33m=\u001b[0m\u001b[1;36m1\u001b[0m\u001b[1;33m)\u001b[0m\u001b[1;33m\u001b[0m\u001b[1;33m\u001b[0m\u001b[0m\n\u001b[0m\u001b[0;32m     33\u001b[0m     targets = fluid.data(\n\u001b[0;32m     34\u001b[0m         name='targets', shape=[-1, 1], dtype='int64', lod_level=1)\n",
      "\u001b[1;32m<decorator-gen-151>\u001b[0m in \u001b[0;36mdata\u001b[1;34m(name, shape, dtype, lod_level)\u001b[0m\n",
      "\u001b[1;32m~\\AppData\\Roaming\\Python\\Python38\\site-packages\\paddle\\fluid\\wrapped_decorator.py\u001b[0m in \u001b[0;36m__impl__\u001b[1;34m(func, *args, **kwargs)\u001b[0m\n\u001b[0;32m     23\u001b[0m     \u001b[1;32mdef\u001b[0m \u001b[0m__impl__\u001b[0m\u001b[1;33m(\u001b[0m\u001b[0mfunc\u001b[0m\u001b[1;33m,\u001b[0m \u001b[1;33m*\u001b[0m\u001b[0margs\u001b[0m\u001b[1;33m,\u001b[0m \u001b[1;33m**\u001b[0m\u001b[0mkwargs\u001b[0m\u001b[1;33m)\u001b[0m\u001b[1;33m:\u001b[0m\u001b[1;33m\u001b[0m\u001b[1;33m\u001b[0m\u001b[0m\n\u001b[0;32m     24\u001b[0m         \u001b[0mwrapped_func\u001b[0m \u001b[1;33m=\u001b[0m \u001b[0mdecorator_func\u001b[0m\u001b[1;33m(\u001b[0m\u001b[0mfunc\u001b[0m\u001b[1;33m)\u001b[0m\u001b[1;33m\u001b[0m\u001b[1;33m\u001b[0m\u001b[0m\n\u001b[1;32m---> 25\u001b[1;33m         \u001b[1;32mreturn\u001b[0m \u001b[0mwrapped_func\u001b[0m\u001b[1;33m(\u001b[0m\u001b[1;33m*\u001b[0m\u001b[0margs\u001b[0m\u001b[1;33m,\u001b[0m \u001b[1;33m**\u001b[0m\u001b[0mkwargs\u001b[0m\u001b[1;33m)\u001b[0m\u001b[1;33m\u001b[0m\u001b[1;33m\u001b[0m\u001b[0m\n\u001b[0m\u001b[0;32m     26\u001b[0m \u001b[1;33m\u001b[0m\u001b[0m\n\u001b[0;32m     27\u001b[0m     \u001b[1;32mreturn\u001b[0m \u001b[0m__impl__\u001b[0m\u001b[1;33m\u001b[0m\u001b[1;33m\u001b[0m\u001b[0m\n",
      "\u001b[1;32m~\\AppData\\Roaming\\Python\\Python38\\site-packages\\paddle\\fluid\\framework.py\u001b[0m in \u001b[0;36m__impl__\u001b[1;34m(*args, **kwargs)\u001b[0m\n\u001b[0;32m    230\u001b[0m \u001b[1;32mdef\u001b[0m \u001b[0m_static_only_\u001b[0m\u001b[1;33m(\u001b[0m\u001b[0mfunc\u001b[0m\u001b[1;33m)\u001b[0m\u001b[1;33m:\u001b[0m\u001b[1;33m\u001b[0m\u001b[1;33m\u001b[0m\u001b[0m\n\u001b[0;32m    231\u001b[0m     \u001b[1;32mdef\u001b[0m \u001b[0m__impl__\u001b[0m\u001b[1;33m(\u001b[0m\u001b[1;33m*\u001b[0m\u001b[0margs\u001b[0m\u001b[1;33m,\u001b[0m \u001b[1;33m**\u001b[0m\u001b[0mkwargs\u001b[0m\u001b[1;33m)\u001b[0m\u001b[1;33m:\u001b[0m\u001b[1;33m\u001b[0m\u001b[1;33m\u001b[0m\u001b[0m\n\u001b[1;32m--> 232\u001b[1;33m         assert not in_dygraph_mode(\n\u001b[0m\u001b[0;32m    233\u001b[0m         ), \"In PaddlePaddle 2.x, we turn on dynamic graph mode by default, and '%s()' is only supported in static graph mode. So if you want to use this api, please call 'paddle.enable_static()' before this api to enter static graph mode.\" % func.__name__\n\u001b[0;32m    234\u001b[0m         \u001b[1;32mreturn\u001b[0m \u001b[0mfunc\u001b[0m\u001b[1;33m(\u001b[0m\u001b[1;33m*\u001b[0m\u001b[0margs\u001b[0m\u001b[1;33m,\u001b[0m \u001b[1;33m**\u001b[0m\u001b[0mkwargs\u001b[0m\u001b[1;33m)\u001b[0m\u001b[1;33m\u001b[0m\u001b[1;33m\u001b[0m\u001b[0m\n",
      "\u001b[1;31mAssertionError\u001b[0m: In PaddlePaddle 2.x, we turn on dynamic graph mode by default, and 'data()' is only supported in static graph mode. So if you want to use this api, please call 'paddle.enable_static()' before this api to enter static graph mode."
     ]
    }
   ],
   "source": [
    "jieba.enable_paddle()"
   ]
  },
  {
   "cell_type": "markdown",
   "metadata": {},
   "source": [
    "## 分词"
   ]
  },
  {
   "cell_type": "markdown",
   "metadata": {},
   "source": [
    "* 全模式：所有可能的拆分方式都分出来 出现很多重叠  \n",
    "* 精确模式：精确地拆分句子 不允许重叠"
   ]
  },
  {
   "cell_type": "code",
   "execution_count": 8,
   "metadata": {},
   "outputs": [
    {
     "name": "stdout",
     "output_type": "stream",
     "text": [
      "今天, 真热\n"
     ]
    }
   ],
   "source": [
    "seg_list = jieba.cut(\"今天真热\", cut_all=False)\n",
    "seg_list\n",
    "print(\", \".join(seg_list))"
   ]
  },
  {
   "cell_type": "code",
   "execution_count": 6,
   "metadata": {},
   "outputs": [
    {
     "name": "stderr",
     "output_type": "stream",
     "text": [
      "Building prefix dict from the default dictionary ...\n",
      "Dumping model to file cache C:\\Users\\Think\\AppData\\Local\\Temp\\jieba.cache\n",
      "Loading model cost 1.520 seconds.\n",
      "Prefix dict has been built successfully.\n"
     ]
    },
    {
     "name": "stdout",
     "output_type": "stream",
     "text": [
      "Paddle Mode: 我/来到/北京/清华大学\n",
      "Paddle Mode: 乒乓球/拍卖/完/了\n",
      "Paddle Mode: 中国/科学技术/大学\n",
      "Full Mode: 我/ 来到/ 北京/ 清华/ 清华大学/ 华大/ 大学\n",
      "Default Mode: 我/ 来到/ 北京/ 清华大学\n",
      "他, 来到, 了, 网易, 杭研, 大厦\n",
      "小明, 硕士, 毕业, 于, 中国, 科学, 学院, 科学院, 中国科学院, 计算, 计算所, ，, 后, 在, 日本, 京都, 大学, 日本京都大学, 深造\n"
     ]
    }
   ],
   "source": [
    "strs=[\"我来到北京清华大学\",\"乒乓球拍卖完了\",\"中国科学技术大学\"]\n",
    "for str1 in strs:\n",
    "    seg_list = jieba.cut(str1) # 使用paddle模式\n",
    "    print(\"Paddle Mode: \" + '/'.join(list(seg_list)))\n",
    "\n",
    "seg_list = jieba.cut(\"我来到北京清华大学\", cut_all=True)\n",
    "print(\"Full Mode: \" + \"/ \".join(seg_list))  # 全模式\n",
    "\n",
    "seg_list = jieba.cut(\"我来到北京清华大学\", cut_all=False)\n",
    "print(\"Default Mode: \" + \"/ \".join(seg_list))  # 精确模式\n",
    "\n",
    "seg_list = jieba.cut(\"他来到了网易杭研大厦\")  # 默认是精确模式\n",
    "print(\", \".join(seg_list))\n",
    "\n",
    "seg_list = jieba.cut_for_search(\"小明硕士毕业于中国科学院计算所，后在日本京都大学深造\")  # 搜索引擎模式\n",
    "print(\", \".join(seg_list))"
   ]
  },
  {
   "cell_type": "markdown",
   "metadata": {},
   "source": [
    "## 词性分析"
   ]
  },
  {
   "cell_type": "code",
   "execution_count": 9,
   "metadata": {
    "scrolled": true
   },
   "outputs": [
    {
     "name": "stdout",
     "output_type": "stream",
     "text": [
      "一片 m 寂静 a 之中 r ， x 只 d 听 v 得 ud 蹄声 n 嗒 o 嗒 o ， x 车轮 n 在 p 石板 n 上 f 隆隆 o 滚动 v "
     ]
    }
   ],
   "source": [
    "words = pseg.cut(\"一片寂静之中，只听得蹄声嗒嗒，车轮在石板上隆隆滚动\",use_paddle=True)\n",
    "for word, flag in words:\n",
    "     print('%s %s' % (word, flag),end=' ')"
   ]
  },
  {
   "cell_type": "code",
   "execution_count": 15,
   "metadata": {
    "scrolled": true
   },
   "outputs": [
    {
     "data": {
      "text/plain": [
       "<generator object cut at 0x0000020D4C59DF20>"
      ]
     },
     "execution_count": 15,
     "metadata": {},
     "output_type": "execute_result"
    }
   ],
   "source": [
    "words"
   ]
  },
  {
   "cell_type": "code",
   "execution_count": 42,
   "metadata": {},
   "outputs": [
    {
     "data": {
      "text/plain": [
       "generator"
      ]
     },
     "execution_count": 42,
     "metadata": {},
     "output_type": "execute_result"
    }
   ],
   "source": [
    "words = pseg.cut(\"一片寂静之中，只听得蹄声嗒嗒，车轮在石板上隆隆滚动\",use_paddle=True)\n",
    "type(words)"
   ]
  },
  {
   "cell_type": "code",
   "execution_count": 43,
   "metadata": {},
   "outputs": [
    {
     "data": {
      "text/plain": [
       "jieba.posseg.pair"
      ]
     },
     "execution_count": 43,
     "metadata": {},
     "output_type": "execute_result"
    }
   ],
   "source": [
    "temp = next(words)\n",
    "type(temp)"
   ]
  },
  {
   "cell_type": "markdown",
   "metadata": {},
   "source": [
    "分词之后是jieba特有的pair对象 赋值类似于元祖 但是没有索引"
   ]
  },
  {
   "cell_type": "code",
   "execution_count": 24,
   "metadata": {},
   "outputs": [
    {
     "data": {
      "text/plain": [
       "pair('一片', 'm')"
      ]
     },
     "execution_count": 24,
     "metadata": {},
     "output_type": "execute_result"
    }
   ],
   "source": [
    "temp"
   ]
  },
  {
   "cell_type": "code",
   "execution_count": 26,
   "metadata": {},
   "outputs": [],
   "source": [
    "a,b = temp"
   ]
  },
  {
   "cell_type": "code",
   "execution_count": 27,
   "metadata": {},
   "outputs": [
    {
     "name": "stdout",
     "output_type": "stream",
     "text": [
      "一片\n",
      "m\n"
     ]
    }
   ],
   "source": [
    "print(a)\n",
    "print(b)"
   ]
  },
  {
   "cell_type": "markdown",
   "metadata": {},
   "source": [
    "<table>\n",
    "<thead>\n",
    "<tr>\n",
    "<th>标签</th>\n",
    "<th>含义</th>\n",
    "<th>标签</th>\n",
    "<th>含义</th>\n",
    "<th>标签</th>\n",
    "<th>含义</th>\n",
    "<th>标签</th>\n",
    "<th>含义</th>\n",
    "</tr>\n",
    "</thead>\n",
    "<tbody>\n",
    "<tr>\n",
    "<td>n</td>\n",
    "<td>普通名词</td>\n",
    "<td>f</td>\n",
    "<td>方位名词</td>\n",
    "<td>s</td>\n",
    "<td>处所名词</td>\n",
    "<td>t</td>\n",
    "<td>时间</td>\n",
    "</tr>\n",
    "<tr>\n",
    "<td>nr</td>\n",
    "<td>人名</td>\n",
    "<td>ns</td>\n",
    "<td>地名</td>\n",
    "<td>nt</td>\n",
    "<td>机构名</td>\n",
    "<td>nw</td>\n",
    "<td>作品名</td>\n",
    "</tr>\n",
    "<tr>\n",
    "<td>nz</td>\n",
    "<td>其他专名</td>\n",
    "<td>v</td>\n",
    "<td>普通动词</td>\n",
    "<td>vd</td>\n",
    "<td>动副词</td>\n",
    "<td>vn</td>\n",
    "<td>名动词</td>\n",
    "</tr>\n",
    "<tr>\n",
    "<td>a</td>\n",
    "<td>形容词</td>\n",
    "<td>ad</td>\n",
    "<td>副形词</td>\n",
    "<td>an</td>\n",
    "<td>名形词</td>\n",
    "<td>d</td>\n",
    "<td>副词</td>\n",
    "</tr>\n",
    "<tr>\n",
    "<td>m</td>\n",
    "<td>数量词</td>\n",
    "<td>q</td>\n",
    "<td>量词</td>\n",
    "<td>r</td>\n",
    "<td>代词</td>\n",
    "<td>p</td>\n",
    "<td>介词</td>\n",
    "</tr>\n",
    "<tr>\n",
    "<td>c</td>\n",
    "<td>连词</td>\n",
    "<td>u</td>\n",
    "<td>助词</td>\n",
    "<td>xc</td>\n",
    "<td>其他虚词</td>\n",
    "<td>w</td>\n",
    "<td>标点符号</td>\n",
    "</tr>\n",
    "<tr>\n",
    "<td>PER</td>\n",
    "<td>人名</td>\n",
    "<td>LOC</td>\n",
    "<td>地名</td>\n",
    "<td>ORG</td>\n",
    "<td>机构名</td>\n",
    "<td>TIME</td>\n",
    "<td>时间</td>\n",
    "</tr>\n",
    "</tbody>\n",
    "</table>"
   ]
  },
  {
   "cell_type": "code",
   "execution_count": 39,
   "metadata": {},
   "outputs": [],
   "source": [
    "# 滤出所有名词\n",
    "def foo(flag,sort=['n']):\n",
    "    if flag in sort:\n",
    "        return True\n",
    "    return False"
   ]
  },
  {
   "cell_type": "code",
   "execution_count": 12,
   "metadata": {},
   "outputs": [
    {
     "name": "stdout",
     "output_type": "stream",
     "text": [
      "蹄声\n",
      "车轮\n",
      "石板\n"
     ]
    }
   ],
   "source": [
    "words = pseg.cut(\"一片寂静之中，只听得蹄声嗒嗒，车轮在石板上隆隆滚动\",use_paddle=True)  # 生成器\n",
    "\n",
    "for word,flag in words:\n",
    "    if foo(flag):\n",
    "        print(word)"
   ]
  },
  {
   "cell_type": "code",
   "execution_count": 39,
   "metadata": {},
   "outputs": [
    {
     "data": {
      "text/plain": [
       "['蹄声', '车轮', '石板']"
      ]
     },
     "execution_count": 39,
     "metadata": {},
     "output_type": "execute_result"
    }
   ],
   "source": [
    "words = pseg.cut(\"一片寂静之中，只听得蹄声嗒嗒，车轮在石板上隆隆滚动\",use_paddle=True)  # 生成器\n",
    "\n",
    "[word for word,flag in words if foo(flag)] "
   ]
  },
  {
   "cell_type": "markdown",
   "metadata": {},
   "source": [
    "## 停用词去除和词云制作"
   ]
  },
  {
   "cell_type": "markdown",
   "metadata": {},
   "source": [
    "读一本金庸小说进来"
   ]
  },
  {
   "cell_type": "code",
   "execution_count": 13,
   "metadata": {
    "collapsed": true
   },
   "outputs": [
    {
     "ename": "TypeError",
     "evalue": "expected string or bytes-like object",
     "output_type": "error",
     "traceback": [
      "\u001b[1;31m---------------------------------------------------------------------------\u001b[0m",
      "\u001b[1;31mTypeError\u001b[0m                                 Traceback (most recent call last)",
      "\u001b[1;32m<ipython-input-13-5e8507e310cc>\u001b[0m in \u001b[0;36m<module>\u001b[1;34m\u001b[0m\n\u001b[0;32m      1\u001b[0m \u001b[1;32mimport\u001b[0m \u001b[0mre\u001b[0m\u001b[1;33m\u001b[0m\u001b[1;33m\u001b[0m\u001b[0m\n\u001b[1;32m----> 2\u001b[1;33m \u001b[0mstrs\u001b[0m \u001b[1;33m=\u001b[0m \u001b[1;33m(\u001b[0m\u001b[0mre\u001b[0m\u001b[1;33m.\u001b[0m\u001b[0msub\u001b[0m\u001b[1;33m(\u001b[0m\u001b[1;34m'[^\\u4e00-\\u9fa50-9]'\u001b[0m\u001b[1;33m,\u001b[0m\u001b[1;34m' '\u001b[0m\u001b[1;33m,\u001b[0m\u001b[0mstrs\u001b[0m\u001b[1;33m)\u001b[0m\u001b[1;33m)\u001b[0m\u001b[1;33m\u001b[0m\u001b[1;33m\u001b[0m\u001b[0m\n\u001b[0m",
      "\u001b[1;32mC:\\pyenv\\Anaconda3\\lib\\re.py\u001b[0m in \u001b[0;36msub\u001b[1;34m(pattern, repl, string, count, flags)\u001b[0m\n\u001b[0;32m    208\u001b[0m     \u001b[0ma\u001b[0m \u001b[0mcallable\u001b[0m\u001b[1;33m,\u001b[0m \u001b[0mit\u001b[0m\u001b[0;31m'\u001b[0m\u001b[0ms\u001b[0m \u001b[0mpassed\u001b[0m \u001b[0mthe\u001b[0m \u001b[0mMatch\u001b[0m \u001b[0mobject\u001b[0m \u001b[1;32mand\u001b[0m \u001b[0mmust\u001b[0m \u001b[1;32mreturn\u001b[0m\u001b[1;33m\u001b[0m\u001b[1;33m\u001b[0m\u001b[0m\n\u001b[0;32m    209\u001b[0m     a replacement string to be used.\"\"\"\n\u001b[1;32m--> 210\u001b[1;33m     \u001b[1;32mreturn\u001b[0m \u001b[0m_compile\u001b[0m\u001b[1;33m(\u001b[0m\u001b[0mpattern\u001b[0m\u001b[1;33m,\u001b[0m \u001b[0mflags\u001b[0m\u001b[1;33m)\u001b[0m\u001b[1;33m.\u001b[0m\u001b[0msub\u001b[0m\u001b[1;33m(\u001b[0m\u001b[0mrepl\u001b[0m\u001b[1;33m,\u001b[0m \u001b[0mstring\u001b[0m\u001b[1;33m,\u001b[0m \u001b[0mcount\u001b[0m\u001b[1;33m)\u001b[0m\u001b[1;33m\u001b[0m\u001b[1;33m\u001b[0m\u001b[0m\n\u001b[0m\u001b[0;32m    211\u001b[0m \u001b[1;33m\u001b[0m\u001b[0m\n\u001b[0;32m    212\u001b[0m \u001b[1;32mdef\u001b[0m \u001b[0msubn\u001b[0m\u001b[1;33m(\u001b[0m\u001b[0mpattern\u001b[0m\u001b[1;33m,\u001b[0m \u001b[0mrepl\u001b[0m\u001b[1;33m,\u001b[0m \u001b[0mstring\u001b[0m\u001b[1;33m,\u001b[0m \u001b[0mcount\u001b[0m\u001b[1;33m=\u001b[0m\u001b[1;36m0\u001b[0m\u001b[1;33m,\u001b[0m \u001b[0mflags\u001b[0m\u001b[1;33m=\u001b[0m\u001b[1;36m0\u001b[0m\u001b[1;33m)\u001b[0m\u001b[1;33m:\u001b[0m\u001b[1;33m\u001b[0m\u001b[1;33m\u001b[0m\u001b[0m\n",
      "\u001b[1;31mTypeError\u001b[0m: expected string or bytes-like object"
     ]
    }
   ],
   "source": [
    "import re\n",
    "strs = (re.sub('[^\\u4e00-\\u9fa50-9]',' ',strs))"
   ]
  },
  {
   "cell_type": "code",
   "execution_count": 37,
   "metadata": {},
   "outputs": [
    {
     "data": {
      "text/plain": [
       "1283405"
      ]
     },
     "execution_count": 37,
     "metadata": {},
     "output_type": "execute_result"
    }
   ],
   "source": [
    "with open('./source/jinyong/金庸-天龙八部txt精校版.txt','r') as fp:\n",
    "    strs = fp.read()\n",
    "\n",
    "len(strs)"
   ]
  },
  {
   "cell_type": "code",
   "execution_count": 40,
   "metadata": {},
   "outputs": [],
   "source": [
    "words = pseg.cut(strs[10000:50000])  # 生成器\n",
    "N = [word for word,flag in words if foo(flag,['v'])] "
   ]
  },
  {
   "cell_type": "code",
   "execution_count": 41,
   "metadata": {},
   "outputs": [
    {
     "data": {
      "text/plain": [
       "5042"
      ]
     },
     "execution_count": 41,
     "metadata": {},
     "output_type": "execute_result"
    }
   ],
   "source": [
    "len(N)"
   ]
  },
  {
   "cell_type": "code",
   "execution_count": 50,
   "metadata": {},
   "outputs": [
    {
     "data": {
      "text/plain": [
       "False"
      ]
     },
     "execution_count": 50,
     "metadata": {},
     "output_type": "execute_result"
    }
   ],
   "source": [
    "'少女' in N"
   ]
  },
  {
   "cell_type": "markdown",
   "metadata": {},
   "source": [
    "停用词处理"
   ]
  },
  {
   "cell_type": "code",
   "execution_count": 21,
   "metadata": {},
   "outputs": [],
   "source": [
    "# 读入停用词 做成list\n",
    "def get_stopwords_list():\n",
    "    #按行制作list 并且去掉行首位的空格\n",
    "    stopwords = [line.strip() for line in open('./source/baidu_stopwords.txt',encoding='UTF-8').readlines()]  \n",
    "    return stopwords"
   ]
  },
  {
   "cell_type": "code",
   "execution_count": 25,
   "metadata": {},
   "outputs": [],
   "source": [
    "# 删除停用词\n",
    "def remove_stopwords(sentence_list, stopwords_list):\n",
    "    # 去停用词\n",
    "    res = []\n",
    "    for word in sentence_list:\n",
    "        if word not in stopwords_list:\n",
    "#             word = re.sub(r'[0123456789，。.\\s]+', '', word)  # 去掉数字标点和空格\n",
    "            res.append(word)\n",
    "    return res"
   ]
  },
  {
   "cell_type": "code",
   "execution_count": 51,
   "metadata": {},
   "outputs": [
    {
     "data": {
      "text/plain": [
       "3886"
      ]
     },
     "execution_count": 51,
     "metadata": {},
     "output_type": "execute_result"
    }
   ],
   "source": [
    "wordlist = remove_stopwords(N, get_stopwords_list())\n",
    "len(wordlist)"
   ]
  },
  {
   "cell_type": "code",
   "execution_count": 52,
   "metadata": {},
   "outputs": [
    {
     "data": {
      "text/plain": [
       "['吃',\n",
       " '无',\n",
       " '深交',\n",
       " '瞧',\n",
       " '会',\n",
       " '笑',\n",
       " '定',\n",
       " '出于',\n",
       " '无意',\n",
       " '饿',\n",
       " '计较',\n",
       " '得罪',\n",
       " '不算',\n",
       " '扫',\n",
       " '笑',\n",
       " '请教',\n",
       " '请教',\n",
       " '抽出',\n",
       " '倒转',\n",
       " '拱手',\n",
       " '誉道',\n",
       " '请',\n",
       " '练',\n",
       " '瞧',\n",
       " '坐在',\n",
       " '起身',\n",
       " '涨',\n",
       " '说',\n",
       " '去',\n",
       " '想',\n",
       " '练',\n",
       " '练',\n",
       " '向来',\n",
       " '爱',\n",
       " '瞧',\n",
       " '使',\n",
       " '不妨',\n",
       " '瞧',\n",
       " '喝道',\n",
       " '挥',\n",
       " '摇',\n",
       " '摇头',\n",
       " '说道',\n",
       " '怕',\n",
       " '输',\n",
       " '怕',\n",
       " '说',\n",
       " '说',\n",
       " '犹如',\n",
       " '听',\n",
       " '忍不住',\n",
       " '笑',\n",
       " '占',\n",
       " '笑',\n",
       " '扫',\n",
       " '无遗',\n",
       " '伸剑',\n",
       " '喝道',\n",
       " '装傻',\n",
       " '送',\n",
       " '刺入',\n",
       " '露',\n",
       " '说道',\n",
       " '装傻',\n",
       " '活得',\n",
       " '受',\n",
       " '指使',\n",
       " '直说',\n",
       " '霸霸',\n",
       " '爱',\n",
       " '瞧',\n",
       " '打架',\n",
       " '住',\n",
       " '喜',\n",
       " '喜',\n",
       " '离苦',\n",
       " '获',\n",
       " '喜',\n",
       " '舍',\n",
       " '派',\n",
       " '说',\n",
       " '回收',\n",
       " '挥出',\n",
       " '侧',\n",
       " '闪避',\n",
       " '缩回',\n",
       " '肿',\n",
       " '吃',\n",
       " '料想',\n",
       " '知',\n",
       " '掌',\n",
       " '避开',\n",
       " '装傻',\n",
       " '玩弄',\n",
       " '决无',\n",
       " '出',\n",
       " '掌',\n",
       " '得手',\n",
       " '呆',\n",
       " '抓住',\n",
       " '提起',\n",
       " '喝道',\n",
       " '了不起',\n",
       " '知',\n",
       " '摔落',\n",
       " '滚',\n",
       " '撞',\n",
       " '不忍',\n",
       " '抢过去',\n",
       " '伸手',\n",
       " '扶',\n",
       " '说道',\n",
       " '厮混',\n",
       " '了摸',\n",
       " '说道',\n",
       " '打架',\n",
       " '砍',\n",
       " '杀',\n",
       " '好看',\n",
       " '瞧',\n",
       " '好玩',\n",
       " '再见',\n",
       " '再见',\n",
       " '走',\n",
       " '纵身',\n",
       " '跃出',\n",
       " '拦',\n",
       " '说道',\n",
       " '走',\n",
       " '说',\n",
       " '看',\n",
       " '看',\n",
       " '走',\n",
       " '磕',\n",
       " '响头',\n",
       " '说',\n",
       " '放屁',\n",
       " '放屁',\n",
       " '伸拳',\n",
       " '击去',\n",
       " '夹',\n",
       " '不识',\n",
       " '避让',\n",
       " '缠住',\n",
       " '腻',\n",
       " '缠',\n",
       " '吃',\n",
       " '缩手',\n",
       " '只见',\n",
       " '缠',\n",
       " '惊呼',\n",
       " '挥',\n",
       " '振',\n",
       " '缠',\n",
       " '说',\n",
       " '甩',\n",
       " '不脱',\n",
       " '变',\n",
       " '伸手',\n",
       " '插入',\n",
       " '掏摸',\n",
       " '掏',\n",
       " '不到',\n",
       " '急',\n",
       " '解衣',\n",
       " '听',\n",
       " '笑',\n",
       " '只见',\n",
       " '坐在',\n",
       " '抓',\n",
       " '花',\n",
       " '显得',\n",
       " '握',\n",
       " '许长',\n",
       " '呈',\n",
       " '惧怕',\n",
       " '仰视',\n",
       " '听到',\n",
       " '大叫',\n",
       " '大嚷',\n",
       " '惊呼',\n",
       " '转眼',\n",
       " '去',\n",
       " '瞧',\n",
       " '抬起',\n",
       " '了头',\n",
       " '见',\n",
       " '荡',\n",
       " '荡',\n",
       " '坐在',\n",
       " '好玩',\n",
       " '救',\n",
       " '还手',\n",
       " '还手',\n",
       " '听',\n",
       " '叫唤',\n",
       " '只见',\n",
       " '手执',\n",
       " '掉',\n",
       " '显是',\n",
       " '缠',\n",
       " '挥剑',\n",
       " '斩',\n",
       " '死',\n",
       " '上身',\n",
       " '脱光',\n",
       " '游走',\n",
       " '反手',\n",
       " '捉',\n",
       " '抓',\n",
       " '抓',\n",
       " '不到',\n",
       " '喝道',\n",
       " '站',\n",
       " '别动',\n",
       " '呆',\n",
       " '只见',\n",
       " '闪',\n",
       " '出',\n",
       " '没瞧',\n",
       " '出手',\n",
       " '斩断',\n",
       " '喝彩',\n",
       " '干吗',\n",
       " '弄死',\n",
       " '可要',\n",
       " '不知',\n",
       " '爬到',\n",
       " '没',\n",
       " '察觉',\n",
       " '注视',\n",
       " '不知',\n",
       " '伏',\n",
       " '丢',\n",
       " '穿着',\n",
       " '绣',\n",
       " '打扮',\n",
       " '跳下来',\n",
       " '跳下来',\n",
       " '摔坏',\n",
       " '去',\n",
       " '忍不住',\n",
       " '想',\n",
       " '去',\n",
       " '会',\n",
       " '爬',\n",
       " '赔',\n",
       " '说话',\n",
       " '去',\n",
       " '捉',\n",
       " '见',\n",
       " '玩弄',\n",
       " '来头',\n",
       " '忍让',\n",
       " '倒',\n",
       " '说',\n",
       " '去',\n",
       " '捉',\n",
       " '瞧瞧',\n",
       " '跳下来',\n",
       " '可要',\n",
       " '拉',\n",
       " '笑',\n",
       " '试试看',\n",
       " '拉',\n",
       " '算',\n",
       " '好手',\n",
       " '闹着玩',\n",
       " '请',\n",
       " '派',\n",
       " '抓',\n",
       " '没',\n",
       " '发话',\n",
       " '赔',\n",
       " '瞧瞧',\n",
       " '掏出',\n",
       " '掷',\n",
       " '去',\n",
       " '伸手',\n",
       " '去',\n",
       " '接',\n",
       " '忙',\n",
       " '避开',\n",
       " '扭身',\n",
       " '扑',\n",
       " '看清',\n",
       " '奔行',\n",
       " '去',\n",
       " '急抓',\n",
       " '出手',\n",
       " '抓',\n",
       " '急挥',\n",
       " '抓',\n",
       " '乱打',\n",
       " '游走',\n",
       " '得紧',\n",
       " '上身',\n",
       " '抓',\n",
       " '听',\n",
       " '吹',\n",
       " '动',\n",
       " '扑到',\n",
       " '扫去',\n",
       " '急抓',\n",
       " '奔到',\n",
       " '插入',\n",
       " '踏上',\n",
       " '递',\n",
       " '出',\n",
       " '奔到',\n",
       " '挺',\n",
       " '刺去',\n",
       " '扭动',\n",
       " '奔到',\n",
       " '刺到',\n",
       " '叹服',\n",
       " '递',\n",
       " '毁',\n",
       " '暗服',\n",
       " '招',\n",
       " '渡劫',\n",
       " '刷刷',\n",
       " '刷刷',\n",
       " '连出',\n",
       " '招',\n",
       " '蹿',\n",
       " '不见',\n",
       " '呆',\n",
       " '只见',\n",
       " '抓',\n",
       " '乱摸',\n",
       " '钻入',\n",
       " '拍手',\n",
       " '说道',\n",
       " '露出',\n",
       " '生满',\n",
       " '爱',\n",
       " '欺侮',\n",
       " '脱',\n",
       " '瞧',\n",
       " '羞',\n",
       " '呼',\n",
       " '听话',\n",
       " '爬',\n",
       " '钻入',\n",
       " '不肯',\n",
       " '脱',\n",
       " '跳',\n",
       " '拍',\n",
       " '大叫',\n",
       " '直奔',\n",
       " '奔到',\n",
       " '抢进',\n",
       " '撞',\n",
       " '入',\n",
       " '后退',\n",
       " '进来',\n",
       " '一跤',\n",
       " '摔倒',\n",
       " '失声',\n",
       " '顾不得',\n",
       " '爬',\n",
       " '爬',\n",
       " '忙',\n",
       " '抢',\n",
       " '扶起',\n",
       " '爬到',\n",
       " '要紧',\n",
       " '大叫',\n",
       " '忙',\n",
       " '去',\n",
       " '抓',\n",
       " '摔倒',\n",
       " '笑',\n",
       " '说道',\n",
       " '整得',\n",
       " '够',\n",
       " '呼叫',\n",
       " '钻',\n",
       " '上',\n",
       " '奔到',\n",
       " '动',\n",
       " '回到',\n",
       " '赞道',\n",
       " '抓',\n",
       " '倒',\n",
       " '提',\n",
       " '晃动',\n",
       " '抓住',\n",
       " '吃',\n",
       " '看',\n",
       " '见',\n",
       " '吃',\n",
       " '完',\n",
       " '钻入',\n",
       " '扶起',\n",
       " '惊叫',\n",
       " '抢上',\n",
       " '见',\n",
       " '睁',\n",
       " '愤恨',\n",
       " '没了',\n",
       " '惊',\n",
       " '忙施',\n",
       " '推拿',\n",
       " '知',\n",
       " '撞',\n",
       " '没能',\n",
       " '避开',\n",
       " '撞',\n",
       " '毙命',\n",
       " '定',\n",
       " '进来',\n",
       " '身受',\n",
       " '忙解',\n",
       " '查伤',\n",
       " '解开',\n",
       " '只见',\n",
       " '写',\n",
       " '帮',\n",
       " '诛灭',\n",
       " '惊呼',\n",
       " '写',\n",
       " '腐蚀',\n",
       " '深陷',\n",
       " '凝视',\n",
       " '振',\n",
       " '喝道',\n",
       " '瞧',\n",
       " '帮',\n",
       " '诛灭',\n",
       " '诛灭',\n",
       " '帮',\n",
       " '报',\n",
       " '看',\n",
       " '无',\n",
       " '喝道',\n",
       " '瞧瞧',\n",
       " '去',\n",
       " '应声',\n",
       " '出',\n",
       " '去',\n",
       " '围住',\n",
       " '牵涉',\n",
       " '做',\n",
       " '沉吟',\n",
       " '不知',\n",
       " '帮',\n",
       " '结下',\n",
       " '惨亡',\n",
       " '哽咽',\n",
       " '采药',\n",
       " '帮',\n",
       " '求见',\n",
       " '采',\n",
       " '采药',\n",
       " '帮',\n",
       " '采药',\n",
       " '为生',\n",
       " '不让',\n",
       " '帮',\n",
       " '便是',\n",
       " '没',\n",
       " '去',\n",
       " '传下',\n",
       " '违犯',\n",
       " '放入',\n",
       " '摸',\n",
       " '出',\n",
       " '吃',\n",
       " '誉',\n",
       " '掷',\n",
       " '去',\n",
       " '笑',\n",
       " '吃',\n",
       " '不吃',\n",
       " '没',\n",
       " '上不来',\n",
       " '解',\n",
       " '抓住',\n",
       " '拉',\n",
       " '笑',\n",
       " '试试看',\n",
       " '摔',\n",
       " '死',\n",
       " '挂到',\n",
       " '伸手',\n",
       " '握住',\n",
       " '抓紧',\n",
       " '提',\n",
       " '拉扯',\n",
       " '拉',\n",
       " '听话',\n",
       " '摸出',\n",
       " '捧',\n",
       " '润滑',\n",
       " '瞧',\n",
       " '可爱',\n",
       " '摸摸',\n",
       " '摸',\n",
       " '抚摸',\n",
       " '觉着',\n",
       " '钻入',\n",
       " '没',\n",
       " '提防',\n",
       " '急缩',\n",
       " '没坐',\n",
       " '摔跌',\n",
       " '抓住',\n",
       " '拉',\n",
       " '靠近',\n",
       " '笑',\n",
       " '奇怪',\n",
       " '欺侮',\n",
       " '相告',\n",
       " '听',\n",
       " '奔进',\n",
       " '穿',\n",
       " '回',\n",
       " '上身',\n",
       " '光着',\n",
       " '颇显',\n",
       " '走',\n",
       " '帮',\n",
       " '聚集',\n",
       " '把守',\n",
       " '说道',\n",
       " '见',\n",
       " '敢',\n",
       " '想',\n",
       " '诛灭',\n",
       " '没',\n",
       " '写',\n",
       " '好生',\n",
       " '无礼',\n",
       " '说',\n",
       " '呈',\n",
       " '见',\n",
       " '信封',\n",
       " '写',\n",
       " '接信',\n",
       " '说道',\n",
       " '拆来',\n",
       " '瞧瞧',\n",
       " '拆开',\n",
       " '信封',\n",
       " '抽出',\n",
       " '要死',\n",
       " '信封',\n",
       " '有毒',\n",
       " '听',\n",
       " '读道',\n",
       " '帮',\n",
       " '直呼',\n",
       " '读',\n",
       " '略过',\n",
       " '念',\n",
       " '限',\n",
       " '折断',\n",
       " '退出',\n",
       " '帮',\n",
       " '夸下',\n",
       " '倒',\n",
       " '站',\n",
       " '忙',\n",
       " '伸手',\n",
       " '扶',\n",
       " '抢上',\n",
       " '伸',\n",
       " '拦',\n",
       " '震出',\n",
       " '喝道',\n",
       " '有毒',\n",
       " '别碰',\n",
       " '只见',\n",
       " '不住',\n",
       " '抽搐',\n",
       " '拿信',\n",
       " '成',\n",
       " '死去',\n",
       " '接连',\n",
       " '死',\n",
       " '好手',\n",
       " '帮',\n",
       " '嗔道',\n",
       " '有毒',\n",
       " '笑',\n",
       " '下毒',\n",
       " '得紧',\n",
       " '瞧',\n",
       " '只能',\n",
       " '无知',\n",
       " '听见',\n",
       " '只见',\n",
       " '咬',\n",
       " '穿着',\n",
       " '不住',\n",
       " '晃荡',\n",
       " '瞧',\n",
       " '去',\n",
       " '不见',\n",
       " '侧',\n",
       " '看',\n",
       " '信封',\n",
       " '闪动',\n",
       " '抬头',\n",
       " '说',\n",
       " '泄漏',\n",
       " '听到',\n",
       " '说道',\n",
       " '笑',\n",
       " '不上',\n",
       " '说',\n",
       " '知',\n",
       " '查',\n",
       " '便是',\n",
       " '说',\n",
       " '听',\n",
       " '娇',\n",
       " '擅于',\n",
       " '会',\n",
       " '没',\n",
       " '出',\n",
       " '推想',\n",
       " '请',\n",
       " '帮',\n",
       " '说',\n",
       " '杀',\n",
       " '笑',\n",
       " '杀',\n",
       " '帮',\n",
       " '杀',\n",
       " '听到',\n",
       " '赶着',\n",
       " '瞧瞧',\n",
       " '使毒',\n",
       " '斗不过',\n",
       " '帮',\n",
       " '正说',\n",
       " '拚',\n",
       " '加上',\n",
       " '聘请',\n",
       " '作',\n",
       " '好手',\n",
       " '决不会',\n",
       " '帮',\n",
       " '解毒',\n",
       " '听',\n",
       " '死',\n",
       " '看',\n",
       " '开心',\n",
       " '听到',\n",
       " '惯',\n",
       " '回答',\n",
       " '问',\n",
       " '吃',\n",
       " '不吃',\n",
       " '在外',\n",
       " '不吃',\n",
       " '炒',\n",
       " '吃',\n",
       " '试试看',\n",
       " '说',\n",
       " '抓',\n",
       " '塞',\n",
       " '吃',\n",
       " '好吃',\n",
       " '拂',\n",
       " '送入',\n",
       " '略加',\n",
       " '辨味',\n",
       " '回甘',\n",
       " '生',\n",
       " '吃',\n",
       " '放在',\n",
       " '下吐',\n",
       " '出',\n",
       " '乱飞',\n",
       " '避开',\n",
       " '问',\n",
       " '听到',\n",
       " '能见',\n",
       " '告',\n",
       " '探听',\n",
       " '只得',\n",
       " '听',\n",
       " '帮',\n",
       " '说起',\n",
       " '怔',\n",
       " '说道',\n",
       " '倒',\n",
       " '没',\n",
       " '听见',\n",
       " '听',\n",
       " '说',\n",
       " '回答',\n",
       " '抢',\n",
       " '不用',\n",
       " '做戏',\n",
       " '不肯',\n",
       " '说',\n",
       " '说道',\n",
       " '想',\n",
       " '帮',\n",
       " '照见',\n",
       " '说',\n",
       " '说',\n",
       " '帮结',\n",
       " '干吗',\n",
       " '杀',\n",
       " '已成',\n",
       " '想',\n",
       " '透露',\n",
       " '说',\n",
       " '抓下',\n",
       " '强加',\n",
       " '拷问',\n",
       " '请',\n",
       " '详加',\n",
       " '奉告',\n",
       " '荡',\n",
       " '荡',\n",
       " '说道',\n",
       " '详加',\n",
       " '奉告',\n",
       " '倒',\n",
       " '不用',\n",
       " '信得',\n",
       " '说',\n",
       " '脸现',\n",
       " '收敛',\n",
       " '说道',\n",
       " '帮要',\n",
       " '采药',\n",
       " '答允',\n",
       " '偷采',\n",
       " '撞见',\n",
       " '出言',\n",
       " '说道',\n",
       " '来不得',\n",
       " '买下',\n",
       " '便动',\n",
       " '起手',\n",
       " '下手',\n",
       " '没',\n",
       " '留情',\n",
       " '杀',\n",
       " '便是',\n",
       " '结下',\n",
       " '动',\n",
       " '欠下',\n",
       " '要采',\n",
       " '倒',\n",
       " '谅',\n",
       " '说',\n",
       " '结仇',\n",
       " '说',\n",
       " '捉',\n",
       " '闪电',\n",
       " '吃',\n",
       " '闪电',\n",
       " '奔跑',\n",
       " '闪电',\n",
       " '闪电',\n",
       " '怪',\n",
       " '打岔',\n",
       " '正说',\n",
       " '要紧',\n",
       " '斥责',\n",
       " '不肯',\n",
       " '说',\n",
       " '誉道',\n",
       " '闪电',\n",
       " '爱',\n",
       " '吃',\n",
       " '不吃',\n",
       " '听',\n",
       " '听',\n",
       " '吓人',\n",
       " '吓人',\n",
       " '咬',\n",
       " '咬',\n",
       " '说',\n",
       " '伸入',\n",
       " '抚摸',\n",
       " '说',\n",
       " '笑',\n",
       " '找',\n",
       " '听',\n",
       " '走',\n",
       " '说道',\n",
       " '杀',\n",
       " '占',\n",
       " '帮',\n",
       " '听说',\n",
       " '杀',\n",
       " '倒',\n",
       " '好玩',\n",
       " '蹲',\n",
       " '听',\n",
       " '说',\n",
       " '奉',\n",
       " '占',\n",
       " '说',\n",
       " '对望',\n",
       " '帮要',\n",
       " '奉',\n",
       " '听到',\n",
       " '实',\n",
       " '不知',\n",
       " '帮',\n",
       " '奉',\n",
       " '为难',\n",
       " '想到',\n",
       " '帮',\n",
       " '奉令',\n",
       " '没',\n",
       " '听说',\n",
       " '增',\n",
       " '皱起',\n",
       " '吃',\n",
       " '说道',\n",
       " '听',\n",
       " '说道',\n",
       " '帮主',\n",
       " '解得',\n",
       " '拚着',\n",
       " '身受',\n",
       " '去',\n",
       " '采',\n",
       " '叹',\n",
       " '说道',\n",
       " '生死',\n",
       " '符',\n",
       " '没法',\n",
       " '解得',\n",
       " '生死',\n",
       " '符',\n",
       " '减轻',\n",
       " '求生不得',\n",
       " '说',\n",
       " '走',\n",
       " '说',\n",
       " '够',\n",
       " '不答',\n",
       " '了不起',\n",
       " '帮',\n",
       " '帮主',\n",
       " '治病',\n",
       " '止痛',\n",
       " '存心',\n",
       " '占',\n",
       " '听见',\n",
       " '伸出',\n",
       " '穿',\n",
       " '挺身',\n",
       " '惊呼',\n",
       " '带',\n",
       " '挽',\n",
       " '说道',\n",
       " '瞧瞧',\n",
       " '去',\n",
       " '看',\n",
       " '帮',\n",
       " '抢上',\n",
       " '说道',\n",
       " '请问',\n",
       " '说道',\n",
       " '生死',\n",
       " '符',\n",
       " '求生不得',\n",
       " '问',\n",
       " '霸霸',\n",
       " '问',\n",
       " '就算',\n",
       " '决不会',\n",
       " '说',\n",
       " '实不愿',\n",
       " '听',\n",
       " '含有',\n",
       " '关连',\n",
       " '存亡',\n",
       " '问',\n",
       " '晃动',\n",
       " '拦',\n",
       " '说道',\n",
       " '帮',\n",
       " '在外',\n",
       " '闪失',\n",
       " '请来',\n",
       " '不知',\n",
       " '帮杀',\n",
       " '决不会',\n",
       " '怪',\n",
       " '保护',\n",
       " '说',\n",
       " '挽',\n",
       " '走',\n",
       " '拔出',\n",
       " '说道',\n",
       " '摇头',\n",
       " '说道',\n",
       " '不肯',\n",
       " '说',\n",
       " '杀',\n",
       " '斜',\n",
       " '横',\n",
       " '拦住',\n",
       " '誉道',\n",
       " '杀',\n",
       " '说',\n",
       " '摇手',\n",
       " '说',\n",
       " '杀死',\n",
       " '共享',\n",
       " '吃',\n",
       " '挨',\n",
       " '说',\n",
       " '不枉',\n",
       " '相识',\n",
       " '走',\n",
       " '拉',\n",
       " '走',\n",
       " '去',\n",
       " '闪烁',\n",
       " '恍如',\n",
       " '不见',\n",
       " '抖',\n",
       " '倒',\n",
       " '无',\n",
       " '走出',\n",
       " '抢上',\n",
       " '抓住',\n",
       " '拍',\n",
       " '动',\n",
       " '闪电',\n",
       " '跃出',\n",
       " '扑',\n",
       " '忙',\n",
       " '伸手',\n",
       " '去',\n",
       " '抓',\n",
       " '闪电',\n",
       " '动',\n",
       " '闪电',\n",
       " '钻入',\n",
       " '遭咬',\n",
       " '大叫',\n",
       " '跪',\n",
       " '觉',\n",
       " '有毒',\n",
       " '抓紧',\n",
       " '生怕',\n",
       " '上行',\n",
       " '抢上',\n",
       " '去',\n",
       " '扶',\n",
       " '解药',\n",
       " '刺死',\n",
       " '笑',\n",
       " '解药',\n",
       " '去',\n",
       " '采',\n",
       " '煎',\n",
       " '喝下去',\n",
       " '没事',\n",
       " '拦住',\n",
       " '干吗',\n",
       " '想',\n",
       " '咬',\n",
       " '说',\n",
       " '摸出',\n",
       " '闪电',\n",
       " '捧',\n",
       " '挽',\n",
       " '誉向',\n",
       " '走',\n",
       " '见到',\n",
       " '决避',\n",
       " '不开',\n",
       " '扑',\n",
       " '咬',\n",
       " '彷徨',\n",
       " '瞧',\n",
       " '走出',\n",
       " '来到',\n",
       " '闪电',\n",
       " '出头',\n",
       " '出',\n",
       " '在外',\n",
       " '守御',\n",
       " '以防',\n",
       " '帮来',\n",
       " '攻',\n",
       " '出得',\n",
       " '没',\n",
       " '遇上',\n",
       " '闪电',\n",
       " '不知',\n",
       " '吃',\n",
       " ...]"
      ]
     },
     "execution_count": 52,
     "metadata": {},
     "output_type": "execute_result"
    }
   ],
   "source": [
    "wordlist"
   ]
  },
  {
   "cell_type": "markdown",
   "metadata": {},
   "source": [
    "词云库安装"
   ]
  },
  {
   "cell_type": "code",
   "execution_count": 1,
   "metadata": {
    "collapsed": true
   },
   "outputs": [
    {
     "name": "stdout",
     "output_type": "stream",
     "text": [
      "Requirement already satisfied: wordcloud in c:\\pyenv\\anaconda3\\lib\\site-packages (1.8.1)"
     ]
    },
    {
     "name": "stderr",
     "output_type": "stream",
     "text": [
      "WARNING: Ignoring invalid distribution -umpy (c:\\pyenv\\anaconda3\\lib\\site-packages)\n",
      "WARNING: Ignoring invalid distribution -apf (c:\\pyenv\\anaconda3\\lib\\site-packages)\n",
      "WARNING: Ignoring invalid distribution -addlepaddle (c:\\pyenv\\anaconda3\\lib\\site-packages)\n",
      "WARNING: Ignoring invalid distribution -umpy (c:\\pyenv\\anaconda3\\lib\\site-packages)\n",
      "WARNING: Ignoring invalid distribution -apf (c:\\pyenv\\anaconda3\\lib\\site-packages)\n",
      "WARNING: Ignoring invalid distribution -addlepaddle (c:\\pyenv\\anaconda3\\lib\\site-packages)\n",
      "WARNING: Ignoring invalid distribution -umpy (c:\\pyenv\\anaconda3\\lib\\site-packages)\n",
      "WARNING: Ignoring invalid distribution -apf (c:\\pyenv\\anaconda3\\lib\\site-packages)\n",
      "WARNING: Ignoring invalid distribution -addlepaddle (c:\\pyenv\\anaconda3\\lib\\site-packages)\n",
      "WARNING: Ignoring invalid distribution -umpy (c:\\pyenv\\anaconda3\\lib\\site-packages)\n",
      "WARNING: Ignoring invalid distribution -apf (c:\\pyenv\\anaconda3\\lib\\site-packages)\n",
      "WARNING: Ignoring invalid distribution -addlepaddle (c:\\pyenv\\anaconda3\\lib\\site-packages)\n",
      "WARNING: Ignoring invalid distribution -umpy (c:\\pyenv\\anaconda3\\lib\\site-packages)\n",
      "WARNING: Ignoring invalid distribution -apf (c:\\pyenv\\anaconda3\\lib\\site-packages)\n",
      "WARNING: Ignoring invalid distribution -addlepaddle (c:\\pyenv\\anaconda3\\lib\\site-packages)\n"
     ]
    },
    {
     "name": "stdout",
     "output_type": "stream",
     "text": [
      "\n",
      "Requirement already satisfied: pillow in c:\\pyenv\\anaconda3\\lib\\site-packages (from wordcloud) (7.2.0)\n",
      "Requirement already satisfied: numpy>=1.6.1 in c:\\pyenv\\anaconda3\\lib\\site-packages (from wordcloud) (1.19.3)\n",
      "Requirement already satisfied: matplotlib in c:\\pyenv\\anaconda3\\lib\\site-packages (from wordcloud) (3.2.2)\n",
      "Requirement already satisfied: cycler>=0.10 in c:\\pyenv\\anaconda3\\lib\\site-packages (from matplotlib->wordcloud) (0.10.0)\n",
      "Requirement already satisfied: kiwisolver>=1.0.1 in c:\\pyenv\\anaconda3\\lib\\site-packages (from matplotlib->wordcloud) (1.2.0)\n",
      "Requirement already satisfied: pyparsing!=2.0.4,!=2.1.2,!=2.1.6,>=2.0.1 in c:\\pyenv\\anaconda3\\lib\\site-packages (from matplotlib->wordcloud) (2.4.7)\n",
      "Requirement already satisfied: python-dateutil>=2.1 in c:\\pyenv\\anaconda3\\lib\\site-packages (from matplotlib->wordcloud) (2.8.1)\n",
      "Requirement already satisfied: six in c:\\pyenv\\anaconda3\\lib\\site-packages (from cycler>=0.10->matplotlib->wordcloud) (1.15.0)\n"
     ]
    }
   ],
   "source": [
    "!pip install wordcloud"
   ]
  },
  {
   "cell_type": "code",
   "execution_count": 29,
   "metadata": {},
   "outputs": [],
   "source": [
    "import matplotlib.pyplot as plt\n",
    "from wordcloud import WordCloud\n",
    "import numpy as np\n",
    "from PIL import Image"
   ]
  },
  {
   "cell_type": "code",
   "execution_count": 53,
   "metadata": {},
   "outputs": [],
   "source": [
    "# 必须给个符号分隔开分词结果来形成字符串,否则不能绘制词云\n",
    "wordstr = \" \".join(wordlist)"
   ]
  },
  {
   "cell_type": "code",
   "execution_count": 47,
   "metadata": {},
   "outputs": [],
   "source": [
    "wordcloud = WordCloud(\n",
    "        # 设置字体，不指定就会出现乱码\n",
    "        font_path=r'C:\\Windows\\Fonts\\msjh.ttc',\n",
    "        # 设置背景色\n",
    "        background_color='white',\n",
    "        # 最大字体\n",
    "        max_font_size=80,\n",
    "        # 最小字体\n",
    "        min_font_size=20,\n",
    "        mode='RGBA',\n",
    "#         mask=np.array(Image.open( r'./pic/武侠.png'))\n",
    "        #colormap='pink'\n",
    "        )"
   ]
  },
  {
   "cell_type": "code",
   "execution_count": 54,
   "metadata": {},
   "outputs": [
    {
     "data": {
      "text/plain": [
       "<wordcloud.wordcloud.WordCloud at 0x1f16b8ac4f0>"
      ]
     },
     "execution_count": 54,
     "metadata": {},
     "output_type": "execute_result"
    }
   ],
   "source": [
    "wordcloud.generate(wordstr)"
   ]
  },
  {
   "cell_type": "code",
   "execution_count": 55,
   "metadata": {
    "scrolled": true
   },
   "outputs": [
    {
     "data": {
      "image/png": "[encoded data removed]",
      "text/plain": [
       "<Figure size 432x288 with 1 Axes>"
      ]
     },
     "metadata": {
      "needs_background": "light"
     },
     "output_type": "display_data"
    },
    {
     "data": {
      "text/plain": [
       "<wordcloud.wordcloud.WordCloud at 0x1f16b8ac4f0>"
      ]
     },
     "execution_count": 55,
     "metadata": {},
     "output_type": "execute_result"
    }
   ],
   "source": [
    "plt.figure(\"jinyong\")\n",
    "plt.imshow(wordcloud)\n",
    "plt.axis(\"off\")\n",
    "plt.show()\n",
    "\n",
    "\n",
    "wordcloud.to_file(\"./pic/cloud_result.png\")"
   ]
  }
 ],
 "metadata": {
  "kernelspec": {
   "display_name": "Python 3",
   "language": "python",
   "name": "python3"
  },
  "language_info": {
   "codemirror_mode": {
    "name": "ipython",
    "version": 3
   },
   "file_extension": ".py",
   "mimetype": "text/x-python",
   "name": "python",
   "nbconvert_exporter": "python",
   "pygments_lexer": "ipython3",
   "version": "3.8.3"
  },
  "toc": {
   "base_numbering": 1,
   "nav_menu": {},
   "number_sections": true,
   "sideBar": true,
   "skip_h1_title": false,
   "title_cell": "Table of Contents",
   "title_sidebar": "Contents",
   "toc_cell": false,
   "toc_position": {
    "height": "calc(100% - 180px)",
    "left": "10px",
    "top": "150px",
    "width": "209px"
   },
   "toc_section_display": true,
   "toc_window_display": true
  },
  "varInspector": {
   "cols": {
    "lenName": 16,
    "lenType": 16,
    "lenVar": 40
   },
   "kernels_config": {
    "python": {
     "delete_cmd_postfix": "",
     "delete_cmd_prefix": "del ",
     "library": "var_list.py",
     "varRefreshCmd": "print(var_dic_list())"
    },
    "r": {
     "delete_cmd_postfix": ") ",
     "delete_cmd_prefix": "rm(",
     "library": "var_list.r",
     "varRefreshCmd": "cat(var_dic_list()) "
    }
   },
   "types_to_exclude": [
    "module",
    "function",
    "builtin_function_or_method",
    "instance",
    "_Feature"
   ],
   "window_display": false
  }
 },
 "nbformat": 4,
 "nbformat_minor": 1
}
